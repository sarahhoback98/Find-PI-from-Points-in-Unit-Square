{
 "cells": [
  {
   "cell_type": "code",
   "execution_count": 63,
   "metadata": {},
   "outputs": [
    {
     "ename": "SyntaxError",
     "evalue": "invalid syntax (<ipython-input-63-71fd4234bfc4>, line 13)",
     "output_type": "error",
     "traceback": [
      "\u001b[0;36m  File \u001b[0;32m\"<ipython-input-63-71fd4234bfc4>\"\u001b[0;36m, line \u001b[0;32m13\u001b[0m\n\u001b[0;31m    %%time\u001b[0m\n\u001b[0m    ^\u001b[0m\n\u001b[0;31mSyntaxError\u001b[0m\u001b[0;31m:\u001b[0m invalid syntax\n"
     ]
    }
   ],
   "source": [
    "import random\n",
    "import sys\n",
    "from math import pi, sin, cos, sqrt\n",
    "import matplotlib.pyplot as plt\n",
    "from __future__ import division\n",
    "import numpy as np\n",
    "import numpy\n",
    "import matplotlib.mlab as mlab\n",
    "from matplotlib.patches import Circle\n",
    "import time\n",
    "import math\n",
    "\n",
    "\n",
    "x_pts =[]\n",
    "y_pts =[]\n",
    "xy_pts =[]\n",
    "def random_points_generator(x):\n",
    "    for i in range (x):\n",
    "        x_points= random.uniform(0, 1)\n",
    "        y_points= random.uniform(0, 1)\n",
    "        x_pts.append(x_points)\n",
    "        y_pts.append(y_points)"
   ]
  },
  {
   "cell_type": "code",
   "execution_count": 64,
   "metadata": {},
   "outputs": [
    {
     "name": "stdout",
     "output_type": "stream",
     "text": [
      "CPU times: user 14.4 ms, sys: 2.66 ms, total: 17.1 ms\n",
      "Wall time: 16.2 ms\n"
     ]
    }
   ],
   "source": [
    "%%time\n",
    "random_points_generator(10000) "
   ]
  },
  {
   "cell_type": "code",
   "execution_count": 65,
   "metadata": {},
   "outputs": [
    {
     "name": "stdout",
     "output_type": "stream",
     "text": [
      "CPU times: user 23.7 ms, sys: 23.5 ms, total: 47.2 ms\n",
      "Wall time: 50.7 ms\n"
     ]
    }
   ],
   "source": [
    "%%time\n",
    "pts= np.column_stack((x_pts, y_pts))"
   ]
  },
  {
   "cell_type": "code",
   "execution_count": 66,
   "metadata": {},
   "outputs": [
    {
     "name": "stdout",
     "output_type": "stream",
     "text": [
      "CPU times: user 132 ms, sys: 124 ms, total: 256 ms\n",
      "Wall time: 267 ms\n"
     ]
    },
    {
     "data": {
      "text/plain": [
       "[<matplotlib.lines.Line2D at 0x10f42def0>]"
      ]
     },
     "execution_count": 66,
     "metadata": {},
     "output_type": "execute_result"
    },
    {
     "data": {
      "image/png": "[encoded data removed]",
      "text/plain": [
       "<matplotlib.figure.Figure at 0x11557ca58>"
      ]
     },
     "metadata": {},
     "output_type": "display_data"
    }
   ],
   "source": [
    "%%time\n",
    "plt.plot(pts[:,0], pts[:,1], 'o', alpha=0.5)\n",
    "\n"
   ]
  },
  {
   "cell_type": "code",
   "execution_count": 67,
   "metadata": {},
   "outputs": [
    {
     "name": "stdout",
     "output_type": "stream",
     "text": [
      "True\n",
      "False\n",
      "CPU times: user 1.54 ms, sys: 994 µs, total: 2.53 ms\n",
      "Wall time: 1.81 ms\n"
     ]
    }
   ],
   "source": [
    "%%time\n",
    "circ = Circle((0, 0), radius = 1)\n",
    "\n",
    "print(circ.contains_point([0.5,0.5]))\n",
    "print(circ.contains_point([2,2]))"
   ]
  },
  {
   "cell_type": "code",
   "execution_count": 6,
   "metadata": {},
   "outputs": [],
   "source": [
    "#2,000 iterations\n",
    "counter = 0\n",
    "for i in range (2000):\n",
    "    array = pts[i]\n",
    "    truefalselist =[]\n",
    "    truefalselist= (circ.contains_point(array))\n",
    "\n",
    "    if (sum([truefalselist])) > 0:\n",
    "        counter +=1"
   ]
  },
  {
   "cell_type": "code",
   "execution_count": 7,
   "metadata": {},
   "outputs": [
    {
     "name": "stdout",
     "output_type": "stream",
     "text": [
      "1559\n"
     ]
    },
    {
     "data": {
      "text/plain": [
       "3.118"
      ]
     },
     "execution_count": 7,
     "metadata": {},
     "output_type": "execute_result"
    }
   ],
   "source": [
    "print(counter)\n",
    "((counter)/2000)*4"
   ]
  },
  {
   "cell_type": "code",
   "execution_count": 68,
   "metadata": {},
   "outputs": [
    {
     "name": "stdout",
     "output_type": "stream",
     "text": [
      "CPU times: user 17 µs, sys: 2 µs, total: 19 µs\n",
      "Wall time: 35.8 µs\n"
     ]
    }
   ],
   "source": [
    "%%time\n",
    "def iterations(x):\n",
    "    random_points_generator(x) \n",
    "    pts1= np.column_stack((x_pts, y_pts))\n",
    "    circ = Circle((0, 0), radius = 1)\n",
    "    y = 0\n",
    "    y= 0+x\n",
    "    counter1=0.0\n",
    "    counter = 0\n",
    "    for i in range (y):\n",
    "        array1 = pts1[i]\n",
    "        truefalselist1 =[]\n",
    "        truefalselist1= (circ.contains_point(array1))\n",
    "\n",
    "        if (sum([truefalselist1])) > 0:\n",
    "           counter +=1\n",
    "    counter1= ((counter)/x)*4\n",
    "    return counter1"
   ]
  },
  {
   "cell_type": "code",
   "execution_count": 51,
   "metadata": {},
   "outputs": [
    {
     "data": {
      "text/plain": [
       "3.16"
      ]
     },
     "execution_count": 51,
     "metadata": {},
     "output_type": "execute_result"
    }
   ],
   "source": [
    "iterations(700)"
   ]
  },
  {
   "cell_type": "code",
   "execution_count": 69,
   "metadata": {},
   "outputs": [
    {
     "name": "stdout",
     "output_type": "stream",
     "text": [
      "CPU times: user 8 µs, sys: 1e+03 ns, total: 9 µs\n",
      "Wall time: 11.9 µs\n"
     ]
    }
   ],
   "source": [
    "%%time\n",
    "difference = list()\n",
    "\n",
    "def values_for_log(x):\n",
    "    for i in range (x):\n",
    "        iterations(10**i)\n",
    "        difference_value = abs(iterations(10**i)-math.pi)\n",
    "        difference.append(difference_value)\n",
    "        \n",
    "        \n",
    "\n",
    "    return difference"
   ]
  },
  {
   "cell_type": "code",
   "execution_count": 70,
   "metadata": {},
   "outputs": [
    {
     "name": "stdout",
     "output_type": "stream",
     "text": [
      "CPU times: user 2.53 s, sys: 46.8 ms, total: 2.58 s\n",
      "Wall time: 2.61 s\n"
     ]
    },
    {
     "data": {
      "text/plain": [
       "[0.8584073464102069,\n",
       " 0.05840734641020706,\n",
       " 0.05840734641020706,\n",
       " 0.005592653589792995,\n",
       " 0.0035926535897932155]"
      ]
     },
     "execution_count": 70,
     "metadata": {},
     "output_type": "execute_result"
    }
   ],
   "source": [
    "%%time\n",
    "values_for_log(5);"
   ]
  },
  {
   "cell_type": "code",
   "execution_count": 61,
   "metadata": {
    "scrolled": true
   },
   "outputs": [
    {
     "data": {
      "image/png": "[encoded data removed]",
      "text/plain": [
       "<matplotlib.figure.Figure at 0x109d74860>"
      ]
     },
     "metadata": {},
     "output_type": "display_data"
    }
   ],
   "source": [
    "x_axis= [1,10,100,1000,10000]\n",
    "plt.figure()\n",
    "plt.plot(x_axis,difference)\n",
    "plt.xscale('log')\n",
    "plt.xlabel('Number of Points Used', fontdict=None, labelpad=None)\n",
    "plt.ylabel('Difference Pi Appromixmation and Real Value of Pi', fontdict=None, labelpad=None)\n",
    "plt.autoscale(True)\n",
    "plt.legend(['Approximations as Pi as the # of Darts increases'])\n",
    "plt.show()\n"
   ]
  },
  {
   "cell_type": "code",
   "execution_count": 34,
   "metadata": {},
   "outputs": [],
   "source": [
    "time_for_iterations= []\n",
    "def timevalues_iteration(x):\n",
    "    for i in range (x):\n",
    "        start = time.time()\n",
    "        iterations(10**i)\n",
    "        end = time.time()\n",
    "        time_for_iterations.append((end - start))"
   ]
  },
  {
   "cell_type": "code",
   "execution_count": 71,
   "metadata": {},
   "outputs": [
    {
     "name": "stdout",
     "output_type": "stream",
     "text": [
      "CPU times: user 1.2 s, sys: 18.4 ms, total: 1.22 s\n",
      "Wall time: 1.23 s\n"
     ]
    }
   ],
   "source": [
    "%%time\n",
    "timevalues_iteration(5)"
   ]
  },
  {
   "cell_type": "code",
   "execution_count": 62,
   "metadata": {},
   "outputs": [
    {
     "data": {
      "image/png": "[encoded data removed]",
      "text/plain": [
       "<matplotlib.figure.Figure at 0x115572b70>"
      ]
     },
     "metadata": {},
     "output_type": "display_data"
    }
   ],
   "source": [
    "x_axis= [1,10,100,1000,10000]\n",
    "plt.figure()\n",
    "plt.plot(x_axis,time_for_iterations)\n",
    "plt.xscale('log')\n",
    "plt.xlabel('Number of Points Used', fontdict=None, labelpad=None)\n",
    "plt.ylabel('Amount of time in Seconds for each Approximation to be Computed ', fontdict=None, labelpad=None)\n",
    "plt.autoscale(True)\n",
    "plt.legend(['Time for Each Iteration'])\n",
    "plt.show()\n"
   ]
  },
  {
   "cell_type": "code",
   "execution_count": null,
   "metadata": {},
   "outputs": [],
   "source": []
  }
 ],
 "metadata": {
  "kernelspec": {
   "display_name": "Python 3",
   "language": "python",
   "name": "python3"
  },
  "language_info": {
   "codemirror_mode": {
    "name": "ipython",
    "version": 3
   },
   "file_extension": ".py",
   "mimetype": "text/x-python",
   "name": "python",
   "nbconvert_exporter": "python",
   "pygments_lexer": "ipython3",
   "version": "3.6.4"
  }
 },
 "nbformat": 4,
 "nbformat_minor": 2
}
